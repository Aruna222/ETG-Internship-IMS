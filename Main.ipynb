{
  "nbformat": 4,
  "nbformat_minor": 0,
  "metadata": {
    "colab": {
      "name": "Untitled3.ipynb",
      "provenance": [],
      "collapsed_sections": []
    },
    "kernelspec": {
      "name": "python3",
      "display_name": "Python 3"
    },
    "language_info": {
      "name": "python"
    }
  },
  "cells": [
    {
      "cell_type": "markdown",
      "metadata": {
        "id": "PJ9T5upVKJpb"
      },
      "source": [
        "## **ARUNA**'**S** **BOUTIQUE** IMS "
      ]
    },
    {
      "cell_type": "code",
      "metadata": {
        "id": "10X6h8pRKHJD"
      },
      "source": [
        "cloth_records = { 1101:{'Item':'Maxi Dress' ,'Price':750,'Brand':'H&M','Discount':'40%','Quantity':30},\n",
        "                  1102:{'Item':'Mini Dress' ,'Price':670,'Brand':'Versace','Discount':'30%','Quantity':45},\n",
        "                  1103:{'Item':'Bodycon Dress' ,'Price':700,'Brand':'Prada','Discount':'15%','Quantity':20},\n",
        "                  1104:{'Item':'A-Line Dress' ,'Price':890,'Brand':'Zara','Discount':'60%','Quantity':25},\n",
        "                  1105:{'Item':'Halter Dress' ,'Price':1000,'Brand':'Gucci','Discount':'10%','Quantity':10},\n",
        "                  1106:{'Item':'Wrap Dress' ,'Price':780,'Brand':'Burberry','Discount':'20%','Quantity':30},\n",
        "                  1107:{'Item':'Sheath Dress' ,'Price':630,'Brand':'Hermes','Discount':'55%','Quantity':40},\n",
        "                  1108:{'Item':'Peplum Dress' ,'Price':590,'Brand':'Chanel','Discount':'10%','Quantity':15},\n",
        "                  1109:{'Item':'Pencil Dress' ,'Price':900,'Brand':'Versace','Discount':'30%','Quantity':10},\n",
        "                  1110:{'Item':'Shirt Dress' ,'Price':640,'Brand':'H&M','Discount':'15%','Quantity':25},\n",
        "                  1111:{'Item':'Slip Dress' ,'Price':660,'Brand':'Zara','Discount':'25%','Quantity':30},\n",
        "                  1112:{'Item':'Smock Dress' ,'Price':830,'Brand':'Chanel','Discount':'35%','Quantity':35},\n",
        "                  1113:{'Item':'T-Shirt Dress' ,'Price':990,'Brand':'Prada','Discount':'55%','Quantity':10},\n",
        "                  1114:{'Item':'Denim Dress' ,'Price':760,'Brand':'Gucci','Discount':'20%','Quantity':20},\n",
        "                  1115:{'Item':'Pinafore Dress' ,'Price':620,'Brand':'Chanel','Discount':'15%','Quantity':40},\n",
        "                  1116:{'Item':'Bardote Dress' ,'Price':950,'Brand':'Zara','Discount':'25%','Quantity':25},\n",
        "                  1117:{'Item':'Tube Dress' ,'Price':880,'Brand':'Versace','Discount':'55%','Quantity':45},\n",
        "                  1118:{'Item':'Qipao Dress' ,'Price':650,'Brand':'Hermes','Discount':'10%','Quantity':10},\n",
        "                  1119:{'Item':'Long-Sleeve Dress' ,'Price':900,'Brand':'Burberry','Discount':'40%','Quantity':15},\n",
        "                  1120:{'Item':'Bell-Sleeve Dress' ,'Price':740,'Brand':'Gucci','Discount':'30%','Quantity':35},\n",
        "                  1121:{'Item':'Strapless Dress' ,'Price':850,'Brand':'H&M','Discount':'15%','Quantity':30},\n",
        "                  1122:{'Item':'Blazer Dress' ,'Price':870,'Brand':'Burberry','Discount':'10%','Quantity':25},\n",
        "                  1123:{'Item':'Kimono Dress' ,'Price':620,'Brand':'Chanel','Discount':'35%','Quantity':45},\n",
        "                  1124:{'Item':'Off-Shoulder Dress' ,'Price':700,'Brand':'Gucci','Discount':'20%','Quantity':15},\n",
        "                  1125:{'Item':'One shoulder Dress' ,'Price':970,'Brand':'Versace','Discount':'50%','Quantity':20},\n",
        "                  1126:{'Item':'Asymmetrical Dress' ,'Price':1000,'Brand':'Zara','Discount':'40%','Quantity':20},\n",
        "                  1127:{'Item':'Pouf Dress' ,'Price':690,'Brand':'Prada','Discount':'25%','Quantity':25},\n",
        "                  1128:{'Item':'Bardot Dress' ,'Price':770,'Brand':'Burberry','Discount':'30%','Quantity':10},\n",
        "                  1129:{'Item':'Silhouette  Dress' ,'Price':580,'Brand':'H&M','Discount':'40%','Quantity':35},\n",
        "                  1130:{'Item':'Bandage Dress' ,'Price':750,'Brand':'Hermes','Discount':'10%','Quantity':30}}"
      ],
      "execution_count": null,
      "outputs": []
    },
    {
      "cell_type": "code",
      "metadata": {
        "colab": {
          "base_uri": "https://localhost:8080/"
        },
        "id": "QYZQPe02KHK2",
        "outputId": "381c3696-4a48-4fa5-ff97-b7189c1a64e4"
      },
      "source": [
        "print(cloth_records[1111])"
      ],
      "execution_count": null,
      "outputs": [
        {
          "output_type": "stream",
          "name": "stdout",
          "text": [
            "{'Item': 'Slip Dress', 'Price': 660, 'Brand': 'Zara', 'Discount': '25%', 'Quantity': 30}\n"
          ]
        }
      ]
    },
    {
      "cell_type": "code",
      "metadata": {
        "colab": {
          "base_uri": "https://localhost:8080/"
        },
        "id": "Cq4LXhYfKHOf",
        "outputId": "246cdf07-054e-448a-92a3-6e7791af9f86"
      },
      "source": [
        "print(cloth_records[1103]['Brand'])"
      ],
      "execution_count": null,
      "outputs": [
        {
          "output_type": "stream",
          "name": "stdout",
          "text": [
            "Prada\n"
          ]
        }
      ]
    },
    {
      "cell_type": "code",
      "metadata": {
        "id": "brLdOhwzW9r9"
      },
      "source": [
        "import json\n"
      ],
      "execution_count": null,
      "outputs": []
    },
    {
      "cell_type": "code",
      "metadata": {
        "id": "lESmSq7PXWvC"
      },
      "source": [
        "js = json.dumps(cloth_records)"
      ],
      "execution_count": null,
      "outputs": []
    },
    {
      "cell_type": "code",
      "metadata": {
        "id": "xxhzAybhXWsb"
      },
      "source": [
        "fd = open(\"clothing_invt.json\",'w')\n",
        "fd.write(js)\n",
        "fd.close()"
      ],
      "execution_count": null,
      "outputs": []
    },
    {
      "cell_type": "code",
      "metadata": {
        "id": "qhf3XnJVXWxN"
      },
      "source": [
        "fd = open(\"clothing_invt.json\",'r')\n",
        "txt = fd.read()\n",
        "fd.close()"
      ],
      "execution_count": null,
      "outputs": []
    },
    {
      "cell_type": "code",
      "metadata": {
        "colab": {
          "base_uri": "https://localhost:8080/"
        },
        "id": "N-_MuYutYbRE",
        "outputId": "9fa0fd70-7a73-48ef-df2e-65c563180815"
      },
      "source": [
        " json.loads(txt)"
      ],
      "execution_count": null,
      "outputs": [
        {
          "output_type": "execute_result",
          "data": {
            "text/plain": [
              "{'1101': {'Brand': 'H&M',\n",
              "  'Discount': '40%',\n",
              "  'Item': 'Maxi Dress',\n",
              "  'Price': 750,\n",
              "  'Quantity': 30},\n",
              " '1102': {'Brand': 'Versace',\n",
              "  'Discount': '30%',\n",
              "  'Item': 'Mini Dress',\n",
              "  'Price': 670,\n",
              "  'Quantity': 45},\n",
              " '1103': {'Brand': 'Prada',\n",
              "  'Discount': '15%',\n",
              "  'Item': 'Bodycon Dress',\n",
              "  'Price': 700,\n",
              "  'Quantity': 20},\n",
              " '1104': {'Brand': 'Zara',\n",
              "  'Discount': '60%',\n",
              "  'Item': 'A-Line Dress',\n",
              "  'Price': 890,\n",
              "  'Quantity': 25},\n",
              " '1105': {'Brand': 'Gucci',\n",
              "  'Discount': '10%',\n",
              "  'Item': 'Halter Dress',\n",
              "  'Price': 1000,\n",
              "  'Quantity': 10},\n",
              " '1106': {'Brand': 'Burberry',\n",
              "  'Discount': '20%',\n",
              "  'Item': 'Wrap Dress',\n",
              "  'Price': 780,\n",
              "  'Quantity': 30},\n",
              " '1107': {'Brand': 'Hermes',\n",
              "  'Discount': '55%',\n",
              "  'Item': 'Sheath Dress',\n",
              "  'Price': 630,\n",
              "  'Quantity': 40},\n",
              " '1108': {'Brand': 'Chanel',\n",
              "  'Discount': '10%',\n",
              "  'Item': 'Peplum Dress',\n",
              "  'Price': 590,\n",
              "  'Quantity': 15},\n",
              " '1109': {'Brand': 'Versace',\n",
              "  'Discount': '30%',\n",
              "  'Item': 'Pencil Dress',\n",
              "  'Price': 900,\n",
              "  'Quantity': 10},\n",
              " '1110': {'Brand': 'H&M',\n",
              "  'Discount': '15%',\n",
              "  'Item': 'Shirt Dress',\n",
              "  'Price': 640,\n",
              "  'Quantity': 25},\n",
              " '1111': {'Brand': 'Zara',\n",
              "  'Discount': '25%',\n",
              "  'Item': 'Slip Dress',\n",
              "  'Price': 660,\n",
              "  'Quantity': 30},\n",
              " '1112': {'Brand': 'Chanel',\n",
              "  'Discount': '35%',\n",
              "  'Item': 'Smock Dress',\n",
              "  'Price': 830,\n",
              "  'Quantity': 35},\n",
              " '1113': {'Brand': 'Prada',\n",
              "  'Discount': '55%',\n",
              "  'Item': 'T-Shirt Dress',\n",
              "  'Price': 990,\n",
              "  'Quantity': 10},\n",
              " '1114': {'Brand': 'Gucci',\n",
              "  'Discount': '20%',\n",
              "  'Item': 'Denim Dress',\n",
              "  'Price': 760,\n",
              "  'Quantity': 20},\n",
              " '1115': {'Brand': 'Chanel',\n",
              "  'Discount': '15%',\n",
              "  'Item': 'Pinafore Dress',\n",
              "  'Price': 620,\n",
              "  'Quantity': 40},\n",
              " '1116': {'Brand': 'Zara',\n",
              "  'Discount': '25%',\n",
              "  'Item': 'Bardote Dress',\n",
              "  'Price': 950,\n",
              "  'Quantity': 25},\n",
              " '1117': {'Brand': 'Versace',\n",
              "  'Discount': '55%',\n",
              "  'Item': 'Tube Dress',\n",
              "  'Price': 880,\n",
              "  'Quantity': 45},\n",
              " '1118': {'Brand': 'Hermes',\n",
              "  'Discount': '10%',\n",
              "  'Item': 'Qipao Dress',\n",
              "  'Price': 650,\n",
              "  'Quantity': 10},\n",
              " '1119': {'Brand': 'Burberry',\n",
              "  'Discount': '40%',\n",
              "  'Item': 'Long-Sleeve Dress',\n",
              "  'Price': 900,\n",
              "  'Quantity': 15},\n",
              " '1120': {'Brand': 'Gucci',\n",
              "  'Discount': '30%',\n",
              "  'Item': 'Bell-Sleeve Dress',\n",
              "  'Price': 740,\n",
              "  'Quantity': 35},\n",
              " '1121': {'Brand': 'H&M',\n",
              "  'Discount': '15%',\n",
              "  'Item': 'Strapless Dress',\n",
              "  'Price': 850,\n",
              "  'Quantity': 30},\n",
              " '1122': {'Brand': 'Burberry',\n",
              "  'Discount': '10%',\n",
              "  'Item': 'Blazer Dress',\n",
              "  'Price': 870,\n",
              "  'Quantity': 25},\n",
              " '1123': {'Brand': 'Chanel',\n",
              "  'Discount': '35%',\n",
              "  'Item': 'Kimono Dress',\n",
              "  'Price': 620,\n",
              "  'Quantity': 45},\n",
              " '1124': {'Brand': 'Gucci',\n",
              "  'Discount': '20%',\n",
              "  'Item': 'Off-Shoulder Dress',\n",
              "  'Price': 700,\n",
              "  'Quantity': 15},\n",
              " '1125': {'Brand': 'Versace',\n",
              "  'Discount': '50%',\n",
              "  'Item': 'One shoulder Dress',\n",
              "  'Price': 970,\n",
              "  'Quantity': 20},\n",
              " '1126': {'Brand': 'Zara',\n",
              "  'Discount': '40%',\n",
              "  'Item': 'Asymmetrical Dress',\n",
              "  'Price': 1000,\n",
              "  'Quantity': 20},\n",
              " '1127': {'Brand': 'Prada',\n",
              "  'Discount': '25%',\n",
              "  'Item': 'Pouf Dress',\n",
              "  'Price': 690,\n",
              "  'Quantity': 25},\n",
              " '1128': {'Brand': 'Burberry',\n",
              "  'Discount': '30%',\n",
              "  'Item': 'Bardot Dress',\n",
              "  'Price': 770,\n",
              "  'Quantity': 10},\n",
              " '1129': {'Brand': 'H&M',\n",
              "  'Discount': '40%',\n",
              "  'Item': 'Silhouette  Dress',\n",
              "  'Price': 580,\n",
              "  'Quantity': 35},\n",
              " '1130': {'Brand': 'Hermes',\n",
              "  'Discount': '10%',\n",
              "  'Item': 'Bandage Dress',\n",
              "  'Price': 750,\n",
              "  'Quantity': 30}}"
            ]
          },
          "metadata": {},
          "execution_count": 32
        }
      ]
    },
    {
      "cell_type": "code",
      "metadata": {
        "colab": {
          "base_uri": "https://localhost:8080/"
        },
        "id": "G0zmq6qkYhml",
        "outputId": "2ed31a2b-57ae-4b29-cd03-eafe4c6a0536"
      },
      "source": [
        "print(\"*************************************\")\n",
        "print(\"Welcome to ARUNA'S BOUTIQUE\")\n",
        "print(\"*************************************\")\n",
        "print(\"\\nThe choices are as follows:\\n\")\n",
        "print(\"1.View items\")\n",
        "print(\"2.Add items\")"
      ],
      "execution_count": 37,
      "outputs": [
        {
          "output_type": "stream",
          "name": "stdout",
          "text": [
            "*************************************\n",
            "Welcome to ARUNA'S BOUTIQUE\n",
            "*************************************\n",
            "\n",
            "The choices are as follows:\n",
            "\n",
            "1.View items\n",
            "2.Add items\n"
          ]
        }
      ]
    },
    {
      "cell_type": "code",
      "metadata": {
        "id": "96QNKkW3aeaF",
        "colab": {
          "base_uri": "https://localhost:8080/"
        },
        "outputId": "f7880fe6-72d3-4537-ae00-c42d50bb2eda"
      },
      "source": [
        "choice = str(input(\"\\nEnter your choice:\"))\n",
        "if(choice == '1' ):\n",
        "  for i in cloth_records.keys():\n",
        "            print((i,cloth_records[i]['Item'],cloth_records[i]['Price'],cloth_records[i]['Brand'],cloth_records[i]['Discount'],cloth_records[i]['Quantity']))\n",
        "\n",
        "elif(choice == '2'):\n",
        "  item_id = input(\"Enter id : \")\n",
        "  item_name = input(\"Enter name : \")\n",
        "  item_pr = input(\"Enter price : \")\n",
        "  item_br = input(\"Enter brand : \")\n",
        "  item_dc = input(\"Enter discount : \")\n",
        "  item_qn = input(\"Enter quantity : \")\n",
        "  cloth_records[item_id] = {'Item':item_name, 'Price':item_pr, 'Brand':item_br, 'Discount':item_dc, 'Qunatity':item_qn}"
      ],
      "execution_count": 46,
      "outputs": [
        {
          "name": "stdout",
          "output_type": "stream",
          "text": [
            "\n",
            "Enter your choice:2\n",
            "Enter id : 1131\n",
            "Enter name : Princess Dress\n",
            "Enter price : 790\n",
            "Enter brand : Gucci\n",
            "Enter discount : 30\n",
            "Enter quantity : 25\n"
          ]
        }
      ]
    },
    {
      "cell_type": "code",
      "metadata": {
        "id": "m6qZilxUmtJN"
      },
      "source": [
        "json.dumps(cloth_records)\n",
        "fd = open(\"sales.json\",'w')\n",
        "\n",
        "fd.write(js)\n",
        "\n",
        "fd.close()"
      ],
      "execution_count": 48,
      "outputs": []
    },
    {
      "cell_type": "code",
      "metadata": {
        "id": "SPYTb-ianRwh"
      },
      "source": [
        "fd = open(\"sales.json\", 'r')\n",
        "t = fd.read()\n",
        "fd.close()"
      ],
      "execution_count": 49,
      "outputs": []
    },
    {
      "cell_type": "code",
      "metadata": {
        "colab": {
          "base_uri": "https://localhost:8080/",
          "height": 139
        },
        "id": "jL0FICV5nSG_",
        "outputId": "8cbdb209-69ec-4dcc-da13-d6e9c9d409b5"
      },
      "source": [
        "t"
      ],
      "execution_count": 50,
      "outputs": [
        {
          "output_type": "execute_result",
          "data": {
            "application/vnd.google.colaboratory.intrinsic+json": {
              "type": "string"
            },
            "text/plain": [
              "'{\"1101\": {\"Item\": \"Maxi Dress\", \"Price\": 750, \"Brand\": \"H&M\", \"Discount\": \"40%\", \"Quantity\": 30}, \"1102\": {\"Item\": \"Mini Dress\", \"Price\": 670, \"Brand\": \"Versace\", \"Discount\": \"30%\", \"Quantity\": 45}, \"1103\": {\"Item\": \"Bodycon Dress\", \"Price\": 700, \"Brand\": \"Prada\", \"Discount\": \"15%\", \"Quantity\": 20}, \"1104\": {\"Item\": \"A-Line Dress\", \"Price\": 890, \"Brand\": \"Zara\", \"Discount\": \"60%\", \"Quantity\": 25}, \"1105\": {\"Item\": \"Halter Dress\", \"Price\": 1000, \"Brand\": \"Gucci\", \"Discount\": \"10%\", \"Quantity\": 10}, \"1106\": {\"Item\": \"Wrap Dress\", \"Price\": 780, \"Brand\": \"Burberry\", \"Discount\": \"20%\", \"Quantity\": 30}, \"1107\": {\"Item\": \"Sheath Dress\", \"Price\": 630, \"Brand\": \"Hermes\", \"Discount\": \"55%\", \"Quantity\": 40}, \"1108\": {\"Item\": \"Peplum Dress\", \"Price\": 590, \"Brand\": \"Chanel\", \"Discount\": \"10%\", \"Quantity\": 15}, \"1109\": {\"Item\": \"Pencil Dress\", \"Price\": 900, \"Brand\": \"Versace\", \"Discount\": \"30%\", \"Quantity\": 10}, \"1110\": {\"Item\": \"Shirt Dress\", \"Price\": 640, \"Brand\": \"H&M\", \"Discount\": \"15%\", \"Quantity\": 25}, \"1111\": {\"Item\": \"Slip Dress\", \"Price\": 660, \"Brand\": \"Zara\", \"Discount\": \"25%\", \"Quantity\": 30}, \"1112\": {\"Item\": \"Smock Dress\", \"Price\": 830, \"Brand\": \"Chanel\", \"Discount\": \"35%\", \"Quantity\": 35}, \"1113\": {\"Item\": \"T-Shirt Dress\", \"Price\": 990, \"Brand\": \"Prada\", \"Discount\": \"55%\", \"Quantity\": 10}, \"1114\": {\"Item\": \"Denim Dress\", \"Price\": 760, \"Brand\": \"Gucci\", \"Discount\": \"20%\", \"Quantity\": 20}, \"1115\": {\"Item\": \"Pinafore Dress\", \"Price\": 620, \"Brand\": \"Chanel\", \"Discount\": \"15%\", \"Quantity\": 40}, \"1116\": {\"Item\": \"Bardote Dress\", \"Price\": 950, \"Brand\": \"Zara\", \"Discount\": \"25%\", \"Quantity\": 25}, \"1117\": {\"Item\": \"Tube Dress\", \"Price\": 880, \"Brand\": \"Versace\", \"Discount\": \"55%\", \"Quantity\": 45}, \"1118\": {\"Item\": \"Qipao Dress\", \"Price\": 650, \"Brand\": \"Hermes\", \"Discount\": \"10%\", \"Quantity\": 10}, \"1119\": {\"Item\": \"Long-Sleeve Dress\", \"Price\": 900, \"Brand\": \"Burberry\", \"Discount\": \"40%\", \"Quantity\": 15}, \"1120\": {\"Item\": \"Bell-Sleeve Dress\", \"Price\": 740, \"Brand\": \"Gucci\", \"Discount\": \"30%\", \"Quantity\": 35}, \"1121\": {\"Item\": \"Strapless Dress\", \"Price\": 850, \"Brand\": \"H&M\", \"Discount\": \"15%\", \"Quantity\": 30}, \"1122\": {\"Item\": \"Blazer Dress\", \"Price\": 870, \"Brand\": \"Burberry\", \"Discount\": \"10%\", \"Quantity\": 25}, \"1123\": {\"Item\": \"Kimono Dress\", \"Price\": 620, \"Brand\": \"Chanel\", \"Discount\": \"35%\", \"Quantity\": 45}, \"1124\": {\"Item\": \"Off-Shoulder Dress\", \"Price\": 700, \"Brand\": \"Gucci\", \"Discount\": \"20%\", \"Quantity\": 15}, \"1125\": {\"Item\": \"One shoulder Dress\", \"Price\": 970, \"Brand\": \"Versace\", \"Discount\": \"50%\", \"Quantity\": 20}, \"1126\": {\"Item\": \"Asymmetrical Dress\", \"Price\": 1000, \"Brand\": \"Zara\", \"Discount\": \"40%\", \"Quantity\": 20}, \"1127\": {\"Item\": \"Pouf Dress\", \"Price\": 690, \"Brand\": \"Prada\", \"Discount\": \"25%\", \"Quantity\": 25}, \"1128\": {\"Item\": \"Bardot Dress\", \"Price\": 770, \"Brand\": \"Burberry\", \"Discount\": \"30%\", \"Quantity\": 10}, \"1129\": {\"Item\": \"Silhouette  Dress\", \"Price\": 580, \"Brand\": \"H&M\", \"Discount\": \"40%\", \"Quantity\": 35}, \"1130\": {\"Item\": \"Bandage Dress\", \"Price\": 750, \"Brand\": \"Hermes\", \"Discount\": \"10%\", \"Quantity\": 30}}'"
            ]
          },
          "metadata": {},
          "execution_count": 50
        }
      ]
    },
    {
      "cell_type": "code",
      "metadata": {
        "id": "zcAI5UOVfD4u",
        "colab": {
          "base_uri": "https://localhost:8080/"
        },
        "outputId": "7d2e856c-c27c-4caf-82a3-3c4ae478aff6"
      },
      "source": [
        "n_o_i = int(input(\"Enter no of items to be purchased: \"))\n",
        "for i in range(n_o_i):\n",
        "  nme = input(\"Enter Item: \")\n",
        "  qn = int(input(\"Enter Quantity: \"))\n",
        "  for i in cloth_records:\n",
        "    if (nme == cloth_records[i]['Item'] and (cloth_records[i]['Quantity']>0)):\n",
        "        print(\"Price: \",cloth_records[i]['Price'])\n",
        "        print(\"Total amount for the item: \", cloth_records[i]['Price']*qn)"
      ],
      "execution_count": 51,
      "outputs": [
        {
          "output_type": "stream",
          "name": "stdout",
          "text": [
            "Enter no of items to be purchased: 2\n",
            "Enter Item: Maxi Dress\n",
            "Enter Quantity: 3\n",
            "Price:  750\n",
            "Total amount for the item:  2250\n",
            "Enter Item: Mini Dress\n",
            "Enter Quantity: 6\n",
            "Price:  670\n",
            "Total amount for the item:  4020\n"
          ]
        }
      ]
    },
    {
      "cell_type": "code",
      "metadata": {
        "id": "uw5RPMoglD_f"
      },
      "source": [
        "import time"
      ],
      "execution_count": 52,
      "outputs": []
    },
    {
      "cell_type": "code",
      "metadata": {
        "colab": {
          "base_uri": "https://localhost:8080/",
          "height": 35
        },
        "id": "F1VtnLB2lEB2",
        "outputId": "ec478309-c5d6-4782-b47f-b0d1304b39b1"
      },
      "source": [
        "time.ctime()"
      ],
      "execution_count": 53,
      "outputs": [
        {
          "output_type": "execute_result",
          "data": {
            "application/vnd.google.colaboratory.intrinsic+json": {
              "type": "string"
            },
            "text/plain": [
              "'Mon Sep  6 14:59:43 2021'"
            ]
          },
          "metadata": {},
          "execution_count": 53
        }
      ]
    },
    {
      "cell_type": "code",
      "metadata": {
        "id": "GU2OXKvPlEEE"
      },
      "source": [
        ""
      ],
      "execution_count": null,
      "outputs": []
    },
    {
      "cell_type": "code",
      "metadata": {
        "id": "wAhOZ3YYlEHi"
      },
      "source": [
        ""
      ],
      "execution_count": null,
      "outputs": []
    }
  ]
}